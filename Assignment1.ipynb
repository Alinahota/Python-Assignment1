{
 "cells": [
  {
   "cell_type": "markdown",
   "metadata": {},
   "source": [
    "### Q1"
   ]
  },
  {
   "cell_type": "code",
   "execution_count": 2,
   "metadata": {},
   "outputs": [
    {
     "name": "stdout",
     "output_type": "stream",
     "text": [
      "first number: 23\n",
      "sec number:44\n",
      "value after swapping 44\n",
      "value after swapping 23\n"
     ]
    }
   ],
   "source": [
    "#swapping two nums\n",
    "\n",
    "a = int(input(\"first number: \"))\n",
    "b = int(input(\"sec number:\"))\n",
    "temp = a\n",
    "a = b\n",
    "b = temp\n",
    "print(\"value after swapping\", a)\n",
    "print(\"value after swapping\", b)\n"
   ]
  },
  {
   "cell_type": "markdown",
   "metadata": {},
   "source": [
    "### Q2      "
   ]
  },
  {
   "cell_type": "code",
   "execution_count": 10,
   "metadata": {},
   "outputs": [
    {
     "name": "stdout",
     "output_type": "stream",
     "text": [
      "odd\n"
     ]
    }
   ],
   "source": [
    "#check odd or even\n",
    "\n",
    "a = 5\n",
    "if a%2 == 0:\n",
    "    print(\"even\")\n",
    "else:\n",
    "    print(\"odd\")"
   ]
  },
  {
   "cell_type": "markdown",
   "metadata": {},
   "source": [
    "### Q3"
   ]
  },
  {
   "cell_type": "code",
   "execution_count": 12,
   "metadata": {},
   "outputs": [
    {
     "name": "stdout",
     "output_type": "stream",
     "text": [
      "40.0\n"
     ]
    }
   ],
   "source": [
    "#squareroot\n",
    "\n",
    "a = 1600\n",
    "sqr_root = a**0.5\n",
    "print(sqr_root)"
   ]
  },
  {
   "cell_type": "markdown",
   "metadata": {},
   "source": [
    "### Q4"
   ]
  },
  {
   "cell_type": "code",
   "execution_count": 23,
   "metadata": {
    "scrolled": true
   },
   "outputs": [
    {
     "name": "stdout",
     "output_type": "stream",
     "text": [
      "enter a num: 5\n",
      "1\n",
      "2\n",
      "3\n",
      "4\n",
      "5\n",
      "5\n",
      "4\n",
      "3\n",
      "2\n",
      "1\n"
     ]
    }
   ],
   "source": [
    "n = int(input(\"enter a num: \"))\n",
    "for i in range(1,n+1):\n",
    "    print(i)\n",
    "\n",
    "#reversing\n",
    "for i in range(n,0,-1):\n",
    "    print(i)\n"
   ]
  },
  {
   "cell_type": "markdown",
   "metadata": {},
   "source": [
    "### Q5"
   ]
  },
  {
   "cell_type": "code",
   "execution_count": 14,
   "metadata": {},
   "outputs": [
    {
     "name": "stdout",
     "output_type": "stream",
     "text": [
      "enter value: 5\n",
      "volume of the sphere is:  523.3333333333334\n"
     ]
    }
   ],
   "source": [
    "#vol of sphere\n",
    "\n",
    "radius = float(input(\"enter value: \"))\n",
    "vol = (4/3)*3.14*(radius)**3\n",
    "print(\"volume of the sphere is: \",vol)"
   ]
  },
  {
   "cell_type": "markdown",
   "metadata": {},
   "source": [
    "### Q6"
   ]
  },
  {
   "cell_type": "code",
   "execution_count": 30,
   "metadata": {},
   "outputs": [
    {
     "name": "stdout",
     "output_type": "stream",
     "text": [
      "odd nums are:  1\n",
      "even nums are:  2\n",
      "odd nums are:  3\n",
      "even nums are:  4\n",
      "odd nums are:  5\n",
      "even nums are:  6\n",
      "odd nums are:  7\n",
      "even nums are:  8\n",
      "odd nums are:  9\n",
      "even nums are:  10\n",
      "odd nums are:  11\n",
      "even nums are:  12\n",
      "odd nums are:  13\n",
      "even nums are:  14\n",
      "odd nums are:  15\n",
      "even nums are:  16\n",
      "odd nums are:  17\n",
      "even nums are:  18\n",
      "odd nums are:  19\n",
      "even nums are:  20\n",
      "odd nums are:  21\n",
      "even nums are:  22\n",
      "odd nums are:  23\n",
      "even nums are:  24\n",
      "odd nums are:  25\n",
      "even nums are:  26\n",
      "odd nums are:  27\n",
      "even nums are:  28\n",
      "odd nums are:  29\n",
      "even nums are:  30\n",
      "odd nums are:  31\n",
      "even nums are:  32\n",
      "odd nums are:  33\n",
      "even nums are:  34\n",
      "odd nums are:  35\n",
      "even nums are:  36\n",
      "odd nums are:  37\n",
      "even nums are:  38\n",
      "odd nums are:  39\n",
      "even nums are:  40\n",
      "odd nums are:  41\n",
      "even nums are:  42\n",
      "odd nums are:  43\n",
      "even nums are:  44\n",
      "odd nums are:  45\n",
      "even nums are:  46\n",
      "odd nums are:  47\n",
      "even nums are:  48\n",
      "odd nums are:  49\n",
      "even nums are:  50\n",
      "odd nums are:  51\n",
      "even nums are:  52\n",
      "odd nums are:  53\n",
      "even nums are:  54\n",
      "odd nums are:  55\n",
      "even nums are:  56\n",
      "odd nums are:  57\n",
      "even nums are:  58\n",
      "odd nums are:  59\n",
      "even nums are:  60\n",
      "odd nums are:  61\n",
      "even nums are:  62\n",
      "odd nums are:  63\n",
      "even nums are:  64\n",
      "odd nums are:  65\n",
      "even nums are:  66\n",
      "odd nums are:  67\n",
      "even nums are:  68\n",
      "odd nums are:  69\n",
      "even nums are:  70\n",
      "odd nums are:  71\n",
      "even nums are:  72\n",
      "odd nums are:  73\n",
      "even nums are:  74\n",
      "odd nums are:  75\n",
      "even nums are:  76\n",
      "odd nums are:  77\n",
      "even nums are:  78\n",
      "odd nums are:  79\n",
      "even nums are:  80\n",
      "odd nums are:  81\n",
      "even nums are:  82\n",
      "odd nums are:  83\n",
      "even nums are:  84\n",
      "odd nums are:  85\n",
      "even nums are:  86\n",
      "odd nums are:  87\n",
      "even nums are:  88\n",
      "odd nums are:  89\n",
      "even nums are:  90\n",
      "odd nums are:  91\n",
      "even nums are:  92\n",
      "odd nums are:  93\n",
      "even nums are:  94\n",
      "odd nums are:  95\n",
      "even nums are:  96\n",
      "odd nums are:  97\n",
      "even nums are:  98\n",
      "odd nums are:  99\n",
      "even nums are:  100\n"
     ]
    }
   ],
   "source": [
    "for i in range(1,101):\n",
    "    if i%2 == 0:                       #even\n",
    "        print(\"even nums are: \",i)   \n",
    "    if i%2 != 0:                       #odd\n",
    "        print(\"odd nums are: \",i)"
   ]
  },
  {
   "cell_type": "markdown",
   "metadata": {},
   "source": [
    "### Q7"
   ]
  },
  {
   "cell_type": "code",
   "execution_count": 1,
   "metadata": {},
   "outputs": [
    {
     "name": "stdout",
     "output_type": "stream",
     "text": [
      "enter value: 1\n",
      "enter value: 6\n",
      "enter value: 2\n",
      "the solns are -0.3542486889354093 and -5.645751311064591\n"
     ]
    }
   ],
   "source": [
    "#roots of a quadratic eq\n",
    "\n",
    "a = int(input(\"enter value: \"))\n",
    "b = int(input(\"enter value: \"))\n",
    "c = int(input(\"enter value: \"))\n",
    "d = (b**2)-4*a*c\n",
    "#two solutions\n",
    "sol1 = (-b+(d)**0.5)/2*a \n",
    "sol2 = (-b-(d)**0.5)/2*a\n",
    "\n",
    "print(\"the solns are {0} and {1}\".format(sol1,sol2))"
   ]
  },
  {
   "cell_type": "markdown",
   "metadata": {},
   "source": [
    "### Q8"
   ]
  },
  {
   "cell_type": "code",
   "execution_count": 4,
   "metadata": {},
   "outputs": [
    {
     "name": "stdout",
     "output_type": "stream",
     "text": [
      "enter a number: 2353\n",
      "4\n"
     ]
    }
   ],
   "source": [
    "#count\n",
    "\n",
    "num = int(input(\"enter a number: \"))\n",
    "count = 0\n",
    "while num > 0:\n",
    "    num = num//10\n",
    "    count = count + 1\n",
    "print(count)"
   ]
  },
  {
   "cell_type": "markdown",
   "metadata": {},
   "source": [
    "### Q9"
   ]
  },
  {
   "cell_type": "code",
   "execution_count": 7,
   "metadata": {},
   "outputs": [
    {
     "name": "stdout",
     "output_type": "stream",
     "text": [
      "enter a number: 0\n",
      "False\n"
     ]
    }
   ],
   "source": [
    "#prime\n",
    "\n",
    "num = int(input(\"enter a number: \"))\n",
    "if num > 1:\n",
    "    for i in range(2,num):\n",
    "        if num%i == 0:\n",
    "            print(\"False\")\n",
    "            break\n",
    "    else:\n",
    "        print(\"True\")  \n",
    "else:\n",
    "    print(\"False\")"
   ]
  },
  {
   "cell_type": "markdown",
   "metadata": {},
   "source": [
    "### Q16"
   ]
  },
  {
   "cell_type": "code",
   "execution_count": 1,
   "metadata": {},
   "outputs": [
    {
     "name": "stdout",
     "output_type": "stream",
     "text": [
      "enter a number: 20\n",
      "2\n",
      "3\n",
      "5\n",
      "7\n",
      "11\n",
      "13\n",
      "17\n",
      "19\n"
     ]
    }
   ],
   "source": [
    "end = int(input(\"enter a number: \"))\n",
    "  \n",
    "for val in range(1, end + 1):  \n",
    "    if val > 1: \n",
    "        for n in range(2, val): \n",
    "            if (val % n) == 0: \n",
    "                break\n",
    "        else: \n",
    "            print(val) "
   ]
  },
  {
   "cell_type": "markdown",
   "metadata": {},
   "source": [
    "### Q17"
   ]
  },
  {
   "cell_type": "code",
   "execution_count": 1,
   "metadata": {},
   "outputs": [
    {
     "name": "stdout",
     "output_type": "stream",
     "text": [
      "Enter a number: 5\n",
      "The factorial of 5 is 120\n"
     ]
    }
   ],
   "source": [
    "#factorial\n",
    "\n",
    "def fact(n):\n",
    "    if n == 1 or n == 0:\n",
    "        return 1\n",
    "    else:\n",
    "        return n*fact(n-1)\n",
    "num = int(input(\"Enter a number: \"))\n",
    "if num < 0:\n",
    "    print(\"factorial does not exist\")\n",
    "else:\n",
    "    print(\"The factorial of\",num,\"is\",fact(num))\n",
    "        "
   ]
  },
  {
   "cell_type": "markdown",
   "metadata": {},
   "source": [
    "### Q21"
   ]
  },
  {
   "cell_type": "code",
   "execution_count": 2,
   "metadata": {},
   "outputs": [
    {
     "name": "stdout",
     "output_type": "stream",
     "text": [
      "*    \n",
      "**   \n",
      "***  \n",
      "**** \n",
      "*****\n"
     ]
    }
   ],
   "source": [
    "#1)\n",
    "\n",
    "n=5\n",
    "for i in range(n):\n",
    "    print(\"*\"*(i+1)+\" \"*(n-i-1))"
   ]
  },
  {
   "cell_type": "code",
   "execution_count": 3,
   "metadata": {},
   "outputs": [
    {
     "name": "stdout",
     "output_type": "stream",
     "text": [
      "****** \n",
      "*****  \n",
      "****   \n",
      "***    \n",
      "**     \n",
      "*      \n"
     ]
    }
   ],
   "source": [
    "#2)\n",
    "\n",
    "n=6\n",
    "for i in range(n):\n",
    "    print(\"*\"*(n-i)+\" \"*(i+1))\n"
   ]
  },
  {
   "cell_type": "code",
   "execution_count": 8,
   "metadata": {},
   "outputs": [
    {
     "name": "stdout",
     "output_type": "stream",
     "text": [
      "1         \n",
      "2 2       \n",
      "3 3 3     \n",
      "4 4 4 4   \n",
      "5 5 5 5 5 \n"
     ]
    }
   ],
   "source": [
    "#3)\n",
    "\n",
    "n = 5\n",
    "for i in range(n):\n",
    "    for j in range(i+1):\n",
    "        print(i+1, end = \" \")\n",
    "    for j in range(n-i-1):\n",
    "        print(\" \", end = \" \")\n",
    "    print()"
   ]
  },
  {
   "cell_type": "code",
   "execution_count": 6,
   "metadata": {},
   "outputs": [
    {
     "name": "stdout",
     "output_type": "stream",
     "text": [
      "   * \n",
      "  * * \n",
      " * * * \n",
      "* * * * \n"
     ]
    }
   ],
   "source": [
    "#4)\n",
    "\n",
    "n=4\n",
    "for i in range(n):\n",
    "    for j in range(n-i-1):\n",
    "        print(end=\" \")\n",
    "    for j in range(i+1):\n",
    "        print(\"*\",end=\" \")\n",
    "    print()"
   ]
  },
  {
   "cell_type": "code",
   "execution_count": 14,
   "metadata": {},
   "outputs": [
    {
     "name": "stdout",
     "output_type": "stream",
     "text": [
      "1       \n",
      "2 3     \n",
      "4 5 6   \n",
      "7 8 9 10 \n"
     ]
    }
   ],
   "source": [
    "#5)\n",
    "\n",
    "n = 4\n",
    "num=1\n",
    "for i in range(n):\n",
    "    for j in range(i+1):\n",
    "        print(num, end = \" \")\n",
    "        num+=1\n",
    "    for j in range(n-i-1):\n",
    "        print(\" \", end = \" \")\n",
    "    print()"
   ]
  },
  {
   "cell_type": "code",
   "execution_count": 19,
   "metadata": {},
   "outputs": [],
   "source": [
    "#6)  (took help from the net)\n",
    "\n",
    "def alphabet(n):\n",
    "    num=65\n",
    "                \n",
    "    for i in range(n):\n",
    "        for j in range(i+1):\n",
    "            ch=chr(num)\n",
    "            print(ch, end = \" \")\n",
    "            num+=1\n",
    "        for j in range(n-i-1):\n",
    "            print(\" \", end = \" \")\n",
    "        print()"
   ]
  },
  {
   "cell_type": "code",
   "execution_count": 21,
   "metadata": {},
   "outputs": [
    {
     "name": "stdout",
     "output_type": "stream",
     "text": [
      "A       \n",
      "B C     \n",
      "D E F   \n",
      "G H I J \n"
     ]
    }
   ],
   "source": [
    "alphabet(4)"
   ]
  },
  {
   "cell_type": "markdown",
   "metadata": {},
   "source": [
    "### Q18"
   ]
  },
  {
   "cell_type": "code",
   "execution_count": 23,
   "metadata": {},
   "outputs": [
    {
     "name": "stdout",
     "output_type": "stream",
     "text": [
      "enter a number: 10\n",
      "1\n",
      "1\n",
      "2\n",
      "3\n",
      "5\n",
      "8\n",
      "13\n",
      "21\n",
      "34\n",
      "55\n"
     ]
    }
   ],
   "source": [
    "#fibonacci\n",
    "num=int(input(\"enter a number: \"))\n",
    "p = 0\n",
    "n = 1\n",
    "for i in range(num):\n",
    "    print(n)\n",
    "    p, n = n, p+n"
   ]
  },
  {
   "cell_type": "markdown",
   "metadata": {},
   "source": [
    "### Q20"
   ]
  },
  {
   "cell_type": "code",
   "execution_count": 27,
   "metadata": {},
   "outputs": [
    {
     "name": "stdout",
     "output_type": "stream",
     "text": [
      "enter a number: 121\n",
      "1\n",
      "11\n",
      "121\n"
     ]
    }
   ],
   "source": [
    "#factors of a number\n",
    "\n",
    "def factors(n):\n",
    "    for i in range(1,n+1):\n",
    "        if n % i == 0:\n",
    "            print(i)\n",
    "num =int(input(\"enter a number: \"))\n",
    "factors(num)"
   ]
  },
  {
   "cell_type": "markdown",
   "metadata": {},
   "source": [
    "### Q19"
   ]
  },
  {
   "cell_type": "code",
   "execution_count": 28,
   "metadata": {},
   "outputs": [
    {
     "name": "stdout",
     "output_type": "stream",
     "text": [
      "enter first number: 11\n",
      "enter sec number: 121\n",
      "The L.C.M. of 11 and 121 is 121\n"
     ]
    }
   ],
   "source": [
    "def lcm(x, y):\n",
    "    if x > y:\n",
    "        greater = x\n",
    "    else:\n",
    "        greater = y\n",
    "\n",
    "    while(True):\n",
    "        if((greater % x == 0) and (greater % y == 0)):\n",
    "            lcm = greater\n",
    "            break\n",
    "        greater += 1\n",
    "    return lcm\n",
    "num1 = int(input(\"enter first number: \"))\n",
    "num2 = int(input(\"enter sec number: \"))\n",
    "\n",
    "print(\"The L.C.M. of\", num1,\"and\", num2,\"is\", lcm(num1, num2))"
   ]
  },
  {
   "cell_type": "markdown",
   "metadata": {},
   "source": [
    "### Q12"
   ]
  },
  {
   "cell_type": "code",
   "execution_count": 29,
   "metadata": {},
   "outputs": [
    {
     "data": {
      "text/plain": [
       "233168"
      ]
     },
     "execution_count": 29,
     "metadata": {},
     "output_type": "execute_result"
    }
   ],
   "source": [
    "sum([i for i in range(1000) if i % 3 == 0 or i % 5 == 0])"
   ]
  },
  {
   "cell_type": "markdown",
   "metadata": {},
   "source": [
    "### Q14"
   ]
  },
  {
   "cell_type": "code",
   "execution_count": 35,
   "metadata": {},
   "outputs": [
    {
     "data": {
      "text/plain": [
       "114480384150"
      ]
     },
     "execution_count": 35,
     "metadata": {},
     "output_type": "execute_result"
    }
   ],
   "source": [
    "a=sum(i**2 for i in range(1,101))\n",
    "(a**2)-a"
   ]
  },
  {
   "cell_type": "markdown",
   "metadata": {},
   "source": [
    "### Q13"
   ]
  },
  {
   "cell_type": "code",
   "execution_count": 41,
   "metadata": {},
   "outputs": [
    {
     "name": "stdout",
     "output_type": "stream",
     "text": [
      "2002\n",
      "2009\n",
      "2016\n",
      "2023\n",
      "2037\n",
      "2044\n",
      "2051\n",
      "2058\n",
      "2072\n",
      "2079\n",
      "2086\n",
      "2093\n",
      "2107\n",
      "2114\n",
      "2121\n",
      "2128\n",
      "2142\n",
      "2149\n",
      "2156\n",
      "2163\n",
      "2177\n",
      "2184\n",
      "2191\n",
      "2198\n",
      "2212\n",
      "2219\n",
      "2226\n",
      "2233\n",
      "2247\n",
      "2254\n",
      "2261\n",
      "2268\n",
      "2282\n",
      "2289\n",
      "2296\n",
      "2303\n",
      "2317\n",
      "2324\n",
      "2331\n",
      "2338\n",
      "2352\n",
      "2359\n",
      "2366\n",
      "2373\n",
      "2387\n",
      "2394\n",
      "2401\n",
      "2408\n",
      "2422\n",
      "2429\n",
      "2436\n",
      "2443\n",
      "2457\n",
      "2464\n",
      "2471\n",
      "2478\n",
      "2492\n",
      "2499\n",
      "2506\n",
      "2513\n",
      "2527\n",
      "2534\n",
      "2541\n",
      "2548\n",
      "2562\n",
      "2569\n",
      "2576\n",
      "2583\n",
      "2597\n",
      "2604\n",
      "2611\n",
      "2618\n",
      "2632\n",
      "2639\n",
      "2646\n",
      "2653\n",
      "2667\n",
      "2674\n",
      "2681\n",
      "2688\n",
      "2702\n",
      "2709\n",
      "2716\n",
      "2723\n",
      "2737\n",
      "2744\n",
      "2751\n",
      "2758\n",
      "2772\n",
      "2779\n",
      "2786\n",
      "2793\n",
      "2807\n",
      "2814\n",
      "2821\n",
      "2828\n",
      "2842\n",
      "2849\n",
      "2856\n",
      "2863\n",
      "2877\n",
      "2884\n",
      "2891\n",
      "2898\n",
      "2912\n",
      "2919\n",
      "2926\n",
      "2933\n",
      "2947\n",
      "2954\n",
      "2961\n",
      "2968\n",
      "2982\n",
      "2989\n",
      "2996\n",
      "3003\n",
      "3017\n",
      "3024\n",
      "3031\n",
      "3038\n",
      "3052\n",
      "3059\n",
      "3066\n",
      "3073\n",
      "3087\n",
      "3094\n",
      "3101\n",
      "3108\n",
      "3122\n",
      "3129\n",
      "3136\n",
      "3143\n",
      "3157\n",
      "3164\n",
      "3171\n",
      "3178\n",
      "3192\n",
      "3199\n"
     ]
    }
   ],
   "source": [
    "for x in range(2000,3201):\n",
    "    if x%7==0 and x%5!=0:\n",
    "        print(x)\n",
    "         "
   ]
  },
  {
   "cell_type": "markdown",
   "metadata": {},
   "source": [
    "### Q15"
   ]
  },
  {
   "cell_type": "code",
   "execution_count": null,
   "metadata": {},
   "outputs": [],
   "source": [
    "total = 0          #took help from the net\n",
    "count = 0\n",
    "average = 0\n",
    "\n",
    "while True:\n",
    "    try:\n",
    "        x = input(\"Enter a number: \")\n",
    "        if (x == \"stop\"): \n",
    "            break\n",
    "        value = float(x)\n",
    "        total = value + total\n",
    "        count = count + 1\n",
    "        average = total / count\n",
    "    except:\n",
    "        print(\"Invalid input.\")\n",
    "        print(total, count, average)"
   ]
  },
  {
   "cell_type": "markdown",
   "metadata": {},
   "source": [
    "### Q10"
   ]
  },
  {
   "cell_type": "code",
   "execution_count": null,
   "metadata": {},
   "outputs": [],
   "source": [
    "n = input('Input a number: ')\n",
    "count = 0\n",
    "for num in range(1,n+1):\n",
    "    if num % 3 == 0:\n",
    "        count = count + num\n",
    "    elif num % 5 == 0:\n",
    "        count = count + num\n",
    "print count"
   ]
  },
  {
   "cell_type": "markdown",
   "metadata": {},
   "source": [
    "### Q11"
   ]
  },
  {
   "cell_type": "code",
   "execution_count": null,
   "metadata": {},
   "outputs": [],
   "source": [
    "n1 = input('Input a number: ')\n",
    "n2 = raw_input('Compute sum or product: ')\n",
    "\n",
    "if n2 == 'sum':\n",
    "    print sum(range(1,n1+1))\n",
    "elif n2 == 'product':\n",
    "    product = 1\n",
    "    for i in range(1,n1+1):\n",
    "        product = product*i\n",
    "    print product"
   ]
  },
  {
   "cell_type": "markdown",
   "metadata": {},
   "source": [
    "### Q22"
   ]
  },
  {
   "cell_type": "code",
   "execution_count": 1,
   "metadata": {},
   "outputs": [
    {
     "name": "stdout",
     "output_type": "stream",
     "text": [
      "9\n",
      "11106\n"
     ]
    }
   ],
   "source": [
    "n=int(input())\n",
    "s=n\n",
    "sum=s\n",
    "for i in range(3):\n",
    "    s=s*10+n\n",
    "    sum=sum+s\n",
    "print(sum)"
   ]
  },
  {
   "cell_type": "code",
   "execution_count": null,
   "metadata": {},
   "outputs": [],
   "source": []
  }
 ],
 "metadata": {
  "kernelspec": {
   "display_name": "Python 3",
   "language": "python",
   "name": "python3"
  },
  "language_info": {
   "codemirror_mode": {
    "name": "ipython",
    "version": 3
   },
   "file_extension": ".py",
   "mimetype": "text/x-python",
   "name": "python",
   "nbconvert_exporter": "python",
   "pygments_lexer": "ipython3",
   "version": "3.7.3"
  }
 },
 "nbformat": 4,
 "nbformat_minor": 2
}
